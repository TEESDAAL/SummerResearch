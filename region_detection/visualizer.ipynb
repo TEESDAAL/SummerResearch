{
 "cells": [
  {
   "cell_type": "code",
   "execution_count": 1,
   "id": "c2bb2ca464367229",
   "metadata": {
    "ExecuteTime": {
     "end_time": "2024-12-12T23:16:45.652144Z",
     "start_time": "2024-12-12T23:16:45.641335Z"
    }
   },
   "outputs": [],
   "source": [
    "#imports\n",
    "from shared_tools.make_datasets import x_train, y_train\n",
    "from matplotlib import pyplot as plt\n",
    "from typing import Iterable\n",
    "import pickle, os, numpy as np\n",
    "from PIL import Image\n",
    "from deap import gp\n",
    "from functools import partial\n",
    "from run_gp import get_pset\n",
    "from tree import Tree, show_img"
   ]
  },
  {
   "cell_type": "code",
   "execution_count": 2,
   "id": "initial_id",
   "metadata": {
    "ExecuteTime": {
     "end_time": "2024-12-12T23:16:45.724357Z",
     "start_time": "2024-12-12T23:16:45.710732Z"
    }
   },
   "outputs": [],
   "source": [
    "# aro, val = sum(a for a, _ in y_train) / len(y_train), sum(v for _, v in y_train) / len(y_train)\n",
    "\n",
    "# def show(a_v_pairs: list[tuple[float, float]]) -> None:\n",
    "#     plt.scatter([a for a, _ in a_v_pairs], [v for _, v in a_v_pairs],  s=20, color=(0.1, 0.1, 1, 0.7))\n",
    "#     plt.scatter([aro], [val], s=100, color=(1, 0, 0, 0.7))\n",
    "#     plt.xlim((-1, 1))\n",
    "#     plt.ylim((-1, 1))\n",
    "#     plt.show()\n"
   ]
  },
  {
   "cell_type": "code",
   "execution_count": 3,
   "id": "dbae7922-0aa9-4184-b700-ba57a48039f3",
   "metadata": {
    "ExecuteTime": {
     "end_time": "2024-12-12T23:16:45.836442Z",
     "start_time": "2024-12-12T23:16:45.824892Z"
    }
   },
   "outputs": [],
   "source": [
    "def models(dir_path: str, prefix='') -> list[gp.PrimitiveTree]:\n",
    "    path = f\"{dir_path}/data\"\n",
    "    models= [pickle.load(open(f\"{path}/{file}\", 'rb')) for file in os.listdir(path) if f'{prefix}best' in file]\n",
    "    return models"
   ]
  },
  {
   "cell_type": "code",
   "execution_count": 4,
   "id": "e7e2761e-f3a3-44b6-871c-36299b875979",
   "metadata": {
    "ExecuteTime": {
     "end_time": "2024-12-12T23:16:46.357916Z",
     "start_time": "2024-12-12T23:16:45.923585Z"
    }
   },
   "outputs": [],
   "source": [
    "# show(y_train)"
   ]
  },
  {
   "cell_type": "code",
   "execution_count": 5,
   "id": "2771be9b-14db-4f65-87f7-10c962589229",
   "metadata": {
    "ExecuteTime": {
     "end_time": "2024-12-12T23:17:03.221003Z",
     "start_time": "2024-12-12T23:17:03.197245Z"
    }
   },
   "outputs": [],
   "source": [
    "model = sorted(models('simple_pred'), key=len)[0]\n",
    "f = Tree.of(model, get_pset('simple_pred'))\n",
    "assert str(model) == str(f), f\"{model} != {f}\""
   ]
  },
  {
   "cell_type": "code",
   "execution_count": 6,
   "id": "1935324f-6ce3-4bfc-8185-e990dd86a480",
   "metadata": {
    "ExecuteTime": {
     "end_time": "2024-12-12T23:38:40.656996Z",
     "start_time": "2024-12-12T23:37:00.197687Z"
    }
   },
   "outputs": [
    {
     "name": "stdout",
     "output_type": "stream",
     "text": [
      "Model 0 drawn\n"
     ]
    }
   ],
   "source": [
    "from IPython.display import Image, display\n",
    "\n",
    "for i, model in list(enumerate(models('simple_pred')))[:5]:\n",
    "    f = Tree.of(model, get_pset('simple_pred'))\n",
    "\n",
    "    f.save_graph(f\"model{i}-1.png\", x_train[0]), f.save_graph(f\"model{i}-2.png\", x_train[10])\n",
    "    print(f\"Model {i} drawn\")\n",
    "    #display(Image(filename=f\"test{i}-1.png\")), display(Image(filename=f\"test{i}-2.png\"))\n",
    "    #Image.open(f\"test2-{i}.png\").show()"
   ]
  },
  {
   "cell_type": "code",
   "execution_count": 7,
   "id": "6045dff5444fffd0",
   "metadata": {
    "ExecuteTime": {
     "end_time": "2024-12-12T23:18:54.106656Z",
     "start_time": "2024-12-12T23:18:47.139455Z"
    }
   },
   "outputs": [],
   "source": [
    "# from simple_pred.function_set import hist_equal, lbp, lbp2, gaussian_1, hog_feature, gaussian_11, gauGM, laplace, sobel_x, sobel_y, gaussian_Laplace1, gaussian_Laplace2, rect_region, square_region, rescale\n",
    "\n",
    "# functions_to_check = [\n",
    "#         (lambda i: i, \"Identity\"),\n",
    "#         (hist_equal, 'Hist_Eq'), (gaussian_1, 'Gau1'),(gaussian_11, 'Gau11'),\n",
    "#         (gauGM, 'GauXY'), (laplace, 'Lap'), (sobel_x, 'Sobel_X'),\n",
    "#         (sobel_y, 'Sobel_Y'), (gaussian_Laplace1, 'LoG1'),\n",
    "#         (gaussian_Laplace2, 'LoG2'), (lbp, 'LBP'), (lbp2, 'LBP2'),  (hog_feature, 'HOG'), (rescale, 'rescale')\n",
    "#     ]\n",
    "\n",
    "# for func, name in functions_to_check:\n",
    "#     show_img(func(x_train[0]), name)"
   ]
  },
  {
   "cell_type": "code",
   "execution_count": 8,
   "id": "72e9fb10124bfef6",
   "metadata": {
    "ExecuteTime": {
     "end_time": "2024-12-12T23:18:54.566658Z",
     "start_time": "2024-12-12T23:18:54.166850Z"
    }
   },
   "outputs": [],
   "source": [
    "!rm _treedata/*"
   ]
  },
  {
   "cell_type": "code",
   "execution_count": null,
   "id": "c14efc1447beddf7",
   "metadata": {
    "ExecuteTime": {
     "end_time": "2024-12-12T23:18:54.612267Z",
     "start_time": "2024-12-12T23:18:54.600470Z"
    }
   },
   "outputs": [],
   "source": []
  },
  {
   "cell_type": "code",
   "execution_count": null,
   "id": "3a1b49d01a796c8b",
   "metadata": {
    "ExecuteTime": {
     "end_time": "2024-12-12T23:18:54.710572Z",
     "start_time": "2024-12-12T23:18:54.706247Z"
    }
   },
   "outputs": [],
   "source": []
  }
 ],
 "metadata": {
  "kernelspec": {
   "display_name": "Python 3 (ipykernel)",
   "language": "python",
   "name": "python3"
  },
  "language_info": {
   "codemirror_mode": {
    "name": "ipython",
    "version": 3
   },
   "file_extension": ".py",
   "mimetype": "text/x-python",
   "name": "python",
   "nbconvert_exporter": "python",
   "pygments_lexer": "ipython3",
   "version": "3.13.1"
  }
 },
 "nbformat": 4,
 "nbformat_minor": 5
}
