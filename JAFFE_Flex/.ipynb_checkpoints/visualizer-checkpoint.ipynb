{
 "cells": [
  {
   "cell_type": "code",
   "execution_count": 1,
   "id": "c2bb2ca464367229",
   "metadata": {
    "ExecuteTime": {
     "end_time": "2024-12-12T23:16:45.652144Z",
     "start_time": "2024-12-12T23:16:45.641335Z"
    }
   },
   "outputs": [
    {
     "ename": "ImportError",
     "evalue": "cannot import name 'partiala' from 'functools' (/usr/lib/python3.12/functools.py)",
     "output_type": "error",
     "traceback": [
      "\u001b[0;31m---------------------------------------------------------------------------\u001b[0m",
      "\u001b[0;31mImportError\u001b[0m                               Traceback (most recent call last)",
      "Cell \u001b[0;32mIn[1], line 8\u001b[0m\n\u001b[1;32m      6\u001b[0m \u001b[38;5;28;01mfrom\u001b[39;00m \u001b[38;5;21;01mPIL\u001b[39;00m \u001b[38;5;28;01mimport\u001b[39;00m Image\n\u001b[1;32m      7\u001b[0m \u001b[38;5;28;01mfrom\u001b[39;00m \u001b[38;5;21;01mdeap\u001b[39;00m \u001b[38;5;28;01mimport\u001b[39;00m gp\n\u001b[0;32m----> 8\u001b[0m \u001b[38;5;28;01mfrom\u001b[39;00m \u001b[38;5;21;01mfunctools\u001b[39;00m \u001b[38;5;28;01mimport\u001b[39;00m partiala\n\u001b[1;32m      9\u001b[0m \u001b[38;5;28;01mfrom\u001b[39;00m \u001b[38;5;21;01mrun_gp\u001b[39;00m \u001b[38;5;28;01mimport\u001b[39;00m get_pset\n\u001b[1;32m     10\u001b[0m \u001b[38;5;28;01mfrom\u001b[39;00m \u001b[38;5;21;01mtree\u001b[39;00m \u001b[38;5;28;01mimport\u001b[39;00m Tree, show_img\n",
      "\u001b[0;31mImportError\u001b[0m: cannot import name 'partiala' from 'functools' (/usr/lib/python3.12/functools.py)"
     ]
    }
   ],
   "source": [
    "#imports\n",
    "from shared_tools.make_datasets import x_train, y_train\n",
    "from matplotlib import pyplot as plt\n",
    "from typing import Iterable\n",
    "import pickle, os, numpy as np\n",
    "from PIL import Image\n",
    "from deap import gp\n",
    "from functools import partial\n",
    "from run_gp import get_pset\n",
    "from tree import Tree, show_img"
   ]
  },
  {
   "cell_type": "code",
   "execution_count": null,
   "id": "initial_id",
   "metadata": {
    "ExecuteTime": {
     "end_time": "2024-12-12T23:16:45.724357Z",
     "start_time": "2024-12-12T23:16:45.710732Z"
    }
   },
   "outputs": [],
   "source": [
    "aro, val = sum(a for a, _ in y_train) / len(y_train), sum(v for _, v in y_train) / len(y_train)\n",
    "\n",
    "def show(a_v_pairs: list[tuple[float, float]]) -> None:\n",
    "    plt.scatter([a for a, _ in a_v_pairs], [v for _, v in a_v_pairs],  s=20, color=(0.1, 0.1, 1, 0.7))\n",
    "    plt.scatter([aro], [val], s=100, color=(1, 0, 0, 0.7))\n",
    "    plt.xlim((-1, 1))\n",
    "    plt.ylim((-1, 1))\n",
    "    plt.show()\n"
   ]
  },
  {
   "cell_type": "code",
   "execution_count": null,
   "id": "dbae7922-0aa9-4184-b700-ba57a48039f3",
   "metadata": {
    "ExecuteTime": {
     "end_time": "2024-12-12T23:16:45.836442Z",
     "start_time": "2024-12-12T23:16:45.824892Z"
    }
   },
   "outputs": [],
   "source": [
    "def models(dir_path: str, prefix='') -> list[gp.PrimitiveTree]:\n",
    "    path = f\"{dir_path}/data\"\n",
    "    models= [pickle.load(open(f\"{path}/{file}\", 'rb')) for file in os.listdir(path) if f'{prefix}best' in file]\n",
    "    return models"
   ]
  },
  {
   "cell_type": "code",
   "execution_count": null,
   "id": "e7e2761e-f3a3-44b6-871c-36299b875979",
   "metadata": {
    "ExecuteTime": {
     "end_time": "2024-12-12T23:16:46.357916Z",
     "start_time": "2024-12-12T23:16:45.923585Z"
    }
   },
   "outputs": [],
   "source": [
    "show(y_train)"
   ]
  },
  {
   "cell_type": "code",
   "execution_count": null,
   "id": "a9f2bcf8c47a8c4e",
   "metadata": {
    "ExecuteTime": {
     "end_time": "2024-12-12T23:17:03.179003Z",
     "start_time": "2024-12-12T23:16:46.415629Z"
    }
   },
   "outputs": [],
   "source": [
    "compile = partial(gp.compile, pset=get_pset('simple_pred'))\n",
    "for model in models('simple_pred')[:2]:\n",
    "    \n",
    "    #print(model[0].arity)\n",
    "    nodes, edges, labels = gp.graph(model)\n",
    "\n",
    "    predictor = compile(model)\n",
    "    predictions = [predictor(img) for img in x_train]\n",
    "    show(predictions)\n"
   ]
  },
  {
   "cell_type": "code",
   "execution_count": null,
   "id": "2771be9b-14db-4f65-87f7-10c962589229",
   "metadata": {
    "ExecuteTime": {
     "end_time": "2024-12-12T23:17:03.221003Z",
     "start_time": "2024-12-12T23:17:03.197245Z"
    }
   },
   "outputs": [],
   "source": [
    "model = sorted(models('simple_pred'), key=len)[5]\n",
    "f = Tree.of(model, get_pset('simple_pred'))\n",
    "assert str(model) == str(f), f\"{model} != {f}\""
   ]
  },
  {
   "cell_type": "code",
   "execution_count": null,
   "id": "1935324f-6ce3-4bfc-8185-e990dd86a480",
   "metadata": {
    "ExecuteTime": {
     "end_time": "2024-12-12T23:38:40.656996Z",
     "start_time": "2024-12-12T23:37:00.197687Z"
    }
   },
   "outputs": [],
   "source": [
    "from IPython.display import Image, display\n",
    "\n",
    "for i, model in list(enumerate(models('simple_pred')))[:5]:\n",
    "    f = Tree.of(model, get_pset('simple_pred'))\n",
    "\n",
    "    f.save_graph(f\"model{i}-1.png\", x_train[0]), f.save_graph(f\"model{i}-2.png\", x_train[10])\n",
    "    print(f\"Model {i} drawn\")\n",
    "    #display(Image(filename=f\"test{i}-1.png\")), display(Image(filename=f\"test{i}-2.png\"))\n",
    "    #Image.open(f\"test2-{i}.png\").show()"
   ]
  },
  {
   "cell_type": "code",
   "execution_count": null,
   "id": "6045dff5444fffd0",
   "metadata": {
    "ExecuteTime": {
     "end_time": "2024-12-12T23:18:54.106656Z",
     "start_time": "2024-12-12T23:18:47.139455Z"
    }
   },
   "outputs": [],
   "source": [
    "from simple_pred.function_set import hist_equal, lbp, lbp2, gaussian_1, hog_feature, gaussian_11, gauGM, laplace, sobel_x, sobel_y, gaussian_Laplace1, gaussian_Laplace2, rect_region, square_region, rescale\n",
    "\n",
    "functions_to_check = [\n",
    "        (lambda i: i, \"Identity\"),\n",
    "        (hist_equal, 'Hist_Eq'), (gaussian_1, 'Gau1'),(gaussian_11, 'Gau11'),\n",
    "        (gauGM, 'GauXY'), (laplace, 'Lap'), (sobel_x, 'Sobel_X'),\n",
    "        (sobel_y, 'Sobel_Y'), (gaussian_Laplace1, 'LoG1'),\n",
    "        (gaussian_Laplace2, 'LoG2'), (lbp, 'LBP'), (lbp2, 'LBP2'),  (hog_feature, 'HOG'), (rescale, 'rescale')\n",
    "    ]\n",
    "\n",
    "for func, name in functions_to_check:\n",
    "    show_img(func(x_train[0]), name)\n"
   ]
  },
  {
   "cell_type": "code",
   "execution_count": null,
   "id": "72e9fb10124bfef6",
   "metadata": {
    "ExecuteTime": {
     "end_time": "2024-12-12T23:18:54.566658Z",
     "start_time": "2024-12-12T23:18:54.166850Z"
    }
   },
   "outputs": [],
   "source": [
    "!rm _treedata/*"
   ]
  },
  {
   "cell_type": "code",
   "execution_count": null,
   "id": "c14efc1447beddf7",
   "metadata": {
    "ExecuteTime": {
     "end_time": "2024-12-12T23:18:54.612267Z",
     "start_time": "2024-12-12T23:18:54.600470Z"
    }
   },
   "outputs": [],
   "source": []
  },
  {
   "cell_type": "code",
   "execution_count": null,
   "id": "3a1b49d01a796c8b",
   "metadata": {
    "ExecuteTime": {
     "end_time": "2024-12-12T23:18:54.710572Z",
     "start_time": "2024-12-12T23:18:54.706247Z"
    }
   },
   "outputs": [],
   "source": []
  }
 ],
 "metadata": {
  "kernelspec": {
   "display_name": "Python 3 (ipykernel)",
   "language": "python",
   "name": "python3"
  },
  "language_info": {
   "codemirror_mode": {
    "name": "ipython",
    "version": 3
   },
   "file_extension": ".py",
   "mimetype": "text/x-python",
   "name": "python",
   "nbconvert_exporter": "python",
   "pygments_lexer": "ipython3",
   "version": "3.12.7"
  }
 },
 "nbformat": 4,
 "nbformat_minor": 5
}
