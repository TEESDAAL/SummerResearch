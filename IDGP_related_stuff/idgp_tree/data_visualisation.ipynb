{
 "cells": [
  {
   "cell_type": "code",
   "execution_count": 1,
   "id": "9a003af68d394aee",
   "metadata": {
    "ExecuteTime": {
     "end_time": "2024-12-13T03:23:06.592927Z",
     "start_time": "2024-12-13T03:23:06.588879Z"
    }
   },
   "outputs": [],
   "source": [
    "import matplotlib.pyplot as plt\n",
    "from deap import gp\n",
    "from deap.tools import Logbook\n",
    "from typing import Callable, TypeVar, Iterable\n",
    "import pickle, os, numpy as np\n",
    "from run_gp import RunInfo\n",
    "from shared_tools.make_datasets import x_train, y_train, x_validation, y_validation, x_test, y_test\n",
    "from simple_pred.function_set import create_pset\n",
    "from shared_tools.toolbox import create_toolbox\n",
    "from functools import partial\n",
    "from dataclasses import dataclass\n",
    "from main import parser\n",
    "from tree import Tree\n",
    "from IPython.display import Image\n",
    "import matplotlib"
   ]
  },
  {
   "cell_type": "code",
   "execution_count": 2,
   "id": "89ca7a98-8125-4ce9-b819-4010cf71d6a5",
   "metadata": {},
   "outputs": [],
   "source": [
    "parameters = parser.parse_args([])\n",
    "\n",
    "datasets = {\n",
    "    \"train\": (x_train, y_train),\n",
    "    \"validation\": (x_validation, y_validation),\n",
    "    \"test\": (x_test, y_test)\n",
    "}\n",
    "\n",
    "pset = create_pset(*x_train[0].shape)\n",
    "\n",
    "toolbox = create_toolbox(datasets, pset, parameters)"
   ]
  },
  {
   "cell_type": "code",
   "execution_count": 3,
   "id": "initial_id",
   "metadata": {
    "ExecuteTime": {
     "end_time": "2024-12-13T03:23:07.026623Z",
     "start_time": "2024-12-13T03:23:07.019247Z"
    }
   },
   "outputs": [],
   "source": [
    "def plot(logbook: Logbook) -> None:\n",
    "    gen = logbook.select(\"gen\")\n",
    "\n",
    "    size_avgs = logbook.chapters[\"size\"].select(\"avg\")\n",
    "\n",
    "    fig, axs = plt.subplots(2, 2)\n",
    "    combinations = zip([\"min\", \"max\", \"avg\"], [\"red\", \"green\", \"blue\"])\n",
    "\n",
    "    for ax, (setting, color) in zip(axs.flat, combinations):\n",
    "        ax.plot(gen, logbook.chapters[\"fitness\"].select(setting),\n",
    "                color=color, label=f\"fitness_{setting}\")\n",
    "        ax.set_title(f\"Fitness {setting}\")\n",
    "        ax.set(xlabel='x-label', ylabel='y-label')\n",
    "    axs[1,1].plot(gen, size_avgs, color=\"orange\")\n",
    "    axs[1,1].set_title(\"Average Size\")\n",
    "    # Hide x labels and tick labels for top plots and y ticks for right plots.\n",
    "    for ax in axs.flat:\n",
    "        ax.set(xlabel=\"generations\", ylabel=\"fitness\")\n",
    "        # ax.label_outer()\n",
    "    axs[1,1].set(ylabel=\"size\")\n",
    "    plt.show()\n"
   ]
  },
  {
   "cell_type": "code",
   "execution_count": 4,
   "id": "7f9461e6681fddd5",
   "metadata": {
    "ExecuteTime": {
     "end_time": "2024-12-13T03:23:07.665944Z",
     "start_time": "2024-12-13T03:23:07.653713Z"
    }
   },
   "outputs": [],
   "source": [
    "T = TypeVar('T')\n",
    "def retrieve_from_files(extractor: Callable[[RunInfo], T], files: Iterable[str],  exclude_zero: bool=True) -> list[T]:\n",
    "    parameters = parser.parse_args([])\n",
    "    \n",
    "    datasets = {\n",
    "        \"train\": (x_train, y_train),\n",
    "        \"validation\": (x_validation, y_validation),\n",
    "        \"test\": (x_test, y_test)\n",
    "    }\n",
    "    \n",
    "    pset = create_pset(*x_train[0].shape)\n",
    "    \n",
    "    toolbox = create_toolbox(datasets, pset, parameters)\n",
    "    result = []\n",
    "    for file_path in files:\n",
    "        with open(file_path, 'rb') as file:\n",
    "            run_info = pickle.load(file)\n",
    "            if exclude_zero and run_info.parameters.seed == 0:\n",
    "                continue\n",
    "            result.append(extractor(run_info))\n",
    "    return result\n",
    "\n",
    "def get_files(model: str) -> list[str]:\n",
    "    return [f\"{model}/data/{name}\" for name in os.listdir(f\"{model}/data\")]\n",
    "    \n",
    "def plot_across_all_models(model: str, *extractors: tuple[Callable[[RunInfo], T], str], title: str, exclude_zero: bool=True) -> None:\n",
    "    for extractor, name in extractors:\n",
    "        results = np.array(retrieve_from_files(\n",
    "            extractor,\n",
    "            (f\"{model}/data/{name}\" for name in os.listdir(f\"{model}/data\")),\n",
    "            exclude_zero=exclude_zero\n",
    "        ))\n",
    "        for result in results:\n",
    "            plt.plot(result, alpha=0.3, label='_nolegend_')\n",
    "        plt.plot(results.mean(axis=0), linewidth=3,  label=f\"{name} average\")\n",
    "    plt.title(title)\n",
    "    plt.legend()\n",
    "    plt.show()\n",
    "\n"
   ]
  },
  {
   "cell_type": "code",
   "execution_count": 5,
   "id": "915ff722a6dcfb62",
   "metadata": {
    "ExecuteTime": {
     "end_time": "2024-12-13T03:23:09.071066Z",
     "start_time": "2024-12-13T03:23:08.438988Z"
    },
    "scrolled": true
   },
   "outputs": [
    {
     "name": "stderr",
     "output_type": "stream",
     "text": [
      "/home/pork/.venv/lib/python3.13/site-packages/deap/creator.py:185: RuntimeWarning: A class named 'FitnessMin' has already been created and it will be overwritten. Consider deleting previous creation of that class or rename it.\n",
      "  warnings.warn(\"A class named '{0}' has already been created and it \"\n",
      "/home/pork/.venv/lib/python3.13/site-packages/deap/creator.py:185: RuntimeWarning: A class named 'Individual' has already been created and it will be overwritten. Consider deleting previous creation of that class or rename it.\n",
      "  warnings.warn(\"A class named '{0}' has already been created and it \"\n",
      "/home/pork/.venv/lib/python3.13/site-packages/sklearn/base.py:380: InconsistentVersionWarning: Trying to unpickle estimator MinMaxScaler from version 1.5.2 when using version 1.6.1. This might lead to breaking code or invalid results. Use at your own risk. For more info please refer to:\n",
      "https://scikit-learn.org/stable/model_persistence.html#security-maintainability-limitations\n",
      "  warnings.warn(\n",
      "/home/pork/.venv/lib/python3.13/site-packages/sklearn/base.py:380: InconsistentVersionWarning: Trying to unpickle estimator LinearSVR from version 1.5.2 when using version 1.6.1. This might lead to breaking code or invalid results. Use at your own risk. For more info please refer to:\n",
      "https://scikit-learn.org/stable/model_persistence.html#security-maintainability-limitations\n",
      "  warnings.warn(\n",
      "/home/pork/.venv/lib/python3.13/site-packages/sklearn/base.py:380: InconsistentVersionWarning: Trying to unpickle estimator MultiOutputRegressor from version 1.5.2 when using version 1.6.1. This might lead to breaking code or invalid results. Use at your own risk. For more info please refer to:\n",
      "https://scikit-learn.org/stable/model_persistence.html#security-maintainability-limitations\n",
      "  warnings.warn(\n",
      "/home/pork/.venv/lib/python3.13/site-packages/sklearn/base.py:380: InconsistentVersionWarning: Trying to unpickle estimator Pipeline from version 1.5.2 when using version 1.6.1. This might lead to breaking code or invalid results. Use at your own risk. For more info please refer to:\n",
      "https://scikit-learn.org/stable/model_persistence.html#security-maintainability-limitations\n",
      "  warnings.warn(\n"
     ]
    },
    {
     "ename": "AttributeError",
     "evalue": "Can't get attribute 'X' on <module 'deap.gp' from '/home/pork/.venv/lib/python3.13/site-packages/deap/gp.py'>",
     "output_type": "error",
     "traceback": [
      "\u001b[0;31m---------------------------------------------------------------------------\u001b[0m",
      "\u001b[0;31mAttributeError\u001b[0m                            Traceback (most recent call last)",
      "Cell \u001b[0;32mIn[5], line 1\u001b[0m\n\u001b[0;32m----> 1\u001b[0m \u001b[43mplot_across_all_models\u001b[49m\u001b[43m(\u001b[49m\u001b[38;5;124;43m'\u001b[39;49m\u001b[38;5;124;43msimple_pred\u001b[39;49m\u001b[38;5;124;43m'\u001b[39;49m\u001b[43m,\u001b[49m\u001b[43m \u001b[49m\u001b[43m(\u001b[49m\u001b[38;5;28;43;01mlambda\u001b[39;49;00m\u001b[43m \u001b[49m\u001b[43mi\u001b[49m\u001b[43m:\u001b[49m\u001b[43m \u001b[49m\u001b[43mi\u001b[49m\u001b[38;5;241;43m.\u001b[39;49m\u001b[43mlog\u001b[49m\u001b[38;5;241;43m.\u001b[39;49m\u001b[43mselect\u001b[49m\u001b[43m(\u001b[49m\u001b[38;5;124;43m\"\u001b[39;49m\u001b[38;5;124;43mfit_min\u001b[39;49m\u001b[38;5;124;43m\"\u001b[39;49m\u001b[43m)\u001b[49m\u001b[43m,\u001b[49m\u001b[43m \u001b[49m\u001b[38;5;124;43m\"\u001b[39;49m\u001b[38;5;124;43mfitness\u001b[39;49m\u001b[38;5;124;43m\"\u001b[39;49m\u001b[43m)\u001b[49m\u001b[43m,\u001b[49m\u001b[43m \u001b[49m\u001b[43m(\u001b[49m\u001b[38;5;28;43;01mlambda\u001b[39;49;00m\u001b[43m \u001b[49m\u001b[43mi\u001b[49m\u001b[43m:\u001b[49m\u001b[43m \u001b[49m\u001b[43mi\u001b[49m\u001b[38;5;241;43m.\u001b[39;49m\u001b[43mlog\u001b[49m\u001b[38;5;241;43m.\u001b[39;49m\u001b[43mselect\u001b[49m\u001b[43m(\u001b[49m\u001b[38;5;124;43m\"\u001b[39;49m\u001b[38;5;124;43mval_min\u001b[39;49m\u001b[38;5;124;43m\"\u001b[39;49m\u001b[43m)\u001b[49m\u001b[43m,\u001b[49m\u001b[43m \u001b[49m\u001b[38;5;124;43m\"\u001b[39;49m\u001b[38;5;124;43mvalidation\u001b[39;49m\u001b[38;5;124;43m\"\u001b[39;49m\u001b[43m)\u001b[49m\u001b[43m,\u001b[49m\u001b[43m \u001b[49m\u001b[43mtitle\u001b[49m\u001b[38;5;241;43m=\u001b[39;49m\u001b[38;5;124;43m\"\u001b[39;49m\u001b[38;5;124;43mMinimum Test and Validation error over every run\u001b[39;49m\u001b[38;5;124;43m\"\u001b[39;49m\u001b[43m)\u001b[49m\n\u001b[1;32m      2\u001b[0m \u001b[38;5;66;03m#plot_across_all_models('simple_pred', lambda i: i.log.select(\"val_min\"), title=\"minimum validation error simple pred\")\u001b[39;00m\n",
      "Cell \u001b[0;32mIn[4], line 28\u001b[0m, in \u001b[0;36mplot_across_all_models\u001b[0;34m(model, title, exclude_zero, *extractors)\u001b[0m\n\u001b[1;32m     26\u001b[0m \u001b[38;5;28;01mdef\u001b[39;00m\u001b[38;5;250m \u001b[39m\u001b[38;5;21mplot_across_all_models\u001b[39m(model: \u001b[38;5;28mstr\u001b[39m, \u001b[38;5;241m*\u001b[39mextractors: \u001b[38;5;28mtuple\u001b[39m[Callable[[RunInfo], T], \u001b[38;5;28mstr\u001b[39m], title: \u001b[38;5;28mstr\u001b[39m, exclude_zero: \u001b[38;5;28mbool\u001b[39m\u001b[38;5;241m=\u001b[39m\u001b[38;5;28;01mTrue\u001b[39;00m) \u001b[38;5;241m-\u001b[39m\u001b[38;5;241m>\u001b[39m \u001b[38;5;28;01mNone\u001b[39;00m:\n\u001b[1;32m     27\u001b[0m     \u001b[38;5;28;01mfor\u001b[39;00m extractor, name \u001b[38;5;129;01min\u001b[39;00m extractors:\n\u001b[0;32m---> 28\u001b[0m         results \u001b[38;5;241m=\u001b[39m np\u001b[38;5;241m.\u001b[39marray(\u001b[43mretrieve_from_files\u001b[49m\u001b[43m(\u001b[49m\n\u001b[1;32m     29\u001b[0m \u001b[43m            \u001b[49m\u001b[43mextractor\u001b[49m\u001b[43m,\u001b[49m\n\u001b[1;32m     30\u001b[0m \u001b[43m            \u001b[49m\u001b[43m(\u001b[49m\u001b[38;5;124;43mf\u001b[39;49m\u001b[38;5;124;43m\"\u001b[39;49m\u001b[38;5;132;43;01m{\u001b[39;49;00m\u001b[43mmodel\u001b[49m\u001b[38;5;132;43;01m}\u001b[39;49;00m\u001b[38;5;124;43m/data/\u001b[39;49m\u001b[38;5;132;43;01m{\u001b[39;49;00m\u001b[43mname\u001b[49m\u001b[38;5;132;43;01m}\u001b[39;49;00m\u001b[38;5;124;43m\"\u001b[39;49m\u001b[43m \u001b[49m\u001b[38;5;28;43;01mfor\u001b[39;49;00m\u001b[43m \u001b[49m\u001b[43mname\u001b[49m\u001b[43m \u001b[49m\u001b[38;5;129;43;01min\u001b[39;49;00m\u001b[43m \u001b[49m\u001b[43mos\u001b[49m\u001b[38;5;241;43m.\u001b[39;49m\u001b[43mlistdir\u001b[49m\u001b[43m(\u001b[49m\u001b[38;5;124;43mf\u001b[39;49m\u001b[38;5;124;43m\"\u001b[39;49m\u001b[38;5;132;43;01m{\u001b[39;49;00m\u001b[43mmodel\u001b[49m\u001b[38;5;132;43;01m}\u001b[39;49;00m\u001b[38;5;124;43m/data\u001b[39;49m\u001b[38;5;124;43m\"\u001b[39;49m\u001b[43m)\u001b[49m\u001b[43m)\u001b[49m\u001b[43m,\u001b[49m\n\u001b[1;32m     31\u001b[0m \u001b[43m            \u001b[49m\u001b[43mexclude_zero\u001b[49m\u001b[38;5;241;43m=\u001b[39;49m\u001b[43mexclude_zero\u001b[49m\n\u001b[1;32m     32\u001b[0m \u001b[43m        \u001b[49m\u001b[43m)\u001b[49m)\n\u001b[1;32m     33\u001b[0m         \u001b[38;5;28;01mfor\u001b[39;00m result \u001b[38;5;129;01min\u001b[39;00m results:\n\u001b[1;32m     34\u001b[0m             plt\u001b[38;5;241m.\u001b[39mplot(result, alpha\u001b[38;5;241m=\u001b[39m\u001b[38;5;241m0.3\u001b[39m, label\u001b[38;5;241m=\u001b[39m\u001b[38;5;124m'\u001b[39m\u001b[38;5;124m_nolegend_\u001b[39m\u001b[38;5;124m'\u001b[39m)\n",
      "Cell \u001b[0;32mIn[4], line 17\u001b[0m, in \u001b[0;36mretrieve_from_files\u001b[0;34m(extractor, files, exclude_zero)\u001b[0m\n\u001b[1;32m     15\u001b[0m \u001b[38;5;28;01mfor\u001b[39;00m file_path \u001b[38;5;129;01min\u001b[39;00m files:\n\u001b[1;32m     16\u001b[0m     \u001b[38;5;28;01mwith\u001b[39;00m \u001b[38;5;28mopen\u001b[39m(file_path, \u001b[38;5;124m'\u001b[39m\u001b[38;5;124mrb\u001b[39m\u001b[38;5;124m'\u001b[39m) \u001b[38;5;28;01mas\u001b[39;00m file:\n\u001b[0;32m---> 17\u001b[0m         run_info \u001b[38;5;241m=\u001b[39m \u001b[43mpickle\u001b[49m\u001b[38;5;241;43m.\u001b[39;49m\u001b[43mload\u001b[49m\u001b[43m(\u001b[49m\u001b[43mfile\u001b[49m\u001b[43m)\u001b[49m\n\u001b[1;32m     18\u001b[0m         \u001b[38;5;28;01mif\u001b[39;00m exclude_zero \u001b[38;5;129;01mand\u001b[39;00m run_info\u001b[38;5;241m.\u001b[39mparameters\u001b[38;5;241m.\u001b[39mseed \u001b[38;5;241m==\u001b[39m \u001b[38;5;241m0\u001b[39m:\n\u001b[1;32m     19\u001b[0m             \u001b[38;5;28;01mcontinue\u001b[39;00m\n",
      "\u001b[0;31mAttributeError\u001b[0m: Can't get attribute 'X' on <module 'deap.gp' from '/home/pork/.venv/lib/python3.13/site-packages/deap/gp.py'>"
     ]
    }
   ],
   "source": [
    "\n",
    "plot_across_all_models('simple_pred', (lambda i: i.log.select(\"fit_min\"), \"fitness\"), (lambda i: i.log.select(\"val_min\"), \"validation\"), title=\"Minimum Test and Validation error over every run\")\n",
    "#plot_across_all_models('simple_pred', lambda i: i.log.select(\"val_min\"), title=\"minimum validation error simple pred\")\n"
   ]
  },
  {
   "cell_type": "code",
   "execution_count": null,
   "id": "b2ac43c90c66fb31",
   "metadata": {
    "ExecuteTime": {
     "end_time": "2024-12-13T03:23:10.080068Z",
     "start_time": "2024-12-13T03:23:09.671800Z"
    }
   },
   "outputs": [],
   "source": [
    "best_individual = min(retrieve_from_files(lambda r: r, get_files('simple_pred')), key=lambda r: r.test_error).best_individual\n",
    "print(best_individual)"
   ]
  },
  {
   "cell_type": "code",
   "execution_count": null,
   "id": "1e59c4883f0a2fa6",
   "metadata": {
    "ExecuteTime": {
     "end_time": "2024-12-13T02:27:39.294298Z",
     "start_time": "2024-12-13T02:27:39.285300Z"
    }
   },
   "outputs": [],
   "source": [
    "def show(a_v_pairs: list[tuple[float, float]]) -> None:\n",
    "    aro, val = sum(a for a, _ in a_v_pairs) / len(a_v_pairs), sum(v for _, v in a_v_pairs) / len(a_v_pairs)\n",
    "    plt.scatter([a for a, _ in a_v_pairs], [v for _, v in a_v_pairs],  s=20, color=(0.1, 0.1, 1, 0.7))\n",
    "    plt.scatter([aro], [val], s=100, color=(1, 0, 0, 0.7))\n",
    "    plt.xlim((-1, 1))\n",
    "    plt.ylim((-1, 1))\n",
    "    plt.show()\n"
   ]
  },
  {
   "cell_type": "code",
   "execution_count": null,
   "id": "9e28d84e4b03267",
   "metadata": {},
   "outputs": [],
   "source": [
    "show(y_validation)"
   ]
  },
  {
   "cell_type": "code",
   "execution_count": null,
   "id": "0752bf8b-9cb4-4b54-922e-337187fabe10",
   "metadata": {},
   "outputs": [],
   "source": [
    "predictor = toolbox.compile(best_individual)\n",
    "predictions = [predictor(img) for img in x_validation]\n",
    "show(predictions)"
   ]
  },
  {
   "cell_type": "code",
   "execution_count": null,
   "id": "b3c5ae59-da4c-4c50-8d8b-6f0dc48605e0",
   "metadata": {},
   "outputs": [],
   "source": [
    "f = Tree.of(best_individual, pset)\n",
    "for i, img in enumerate(x_train[:5]):\n",
    "    f.save_graph(f\"models/best_model{i}.png\", img)\n",
    "    display(Image(f\"models/best_model{i}.png\"))"
   ]
  },
  {
   "cell_type": "code",
   "execution_count": null,
   "id": "d07e3f1f-4734-417c-800a-f43fa79d1110",
   "metadata": {},
   "outputs": [],
   "source": [
    "np.array([img.std() for img in x_train]).mean(), np.array([img.std() for img in x_train]).max()"
   ]
  },
  {
   "cell_type": "code",
   "execution_count": null,
   "id": "76783993-be61-40b3-9056-c0b86fe71838",
   "metadata": {},
   "outputs": [],
   "source": [
    "img_stds = np.array([img.std() for img in x_train])\n",
    "matplotlib.pyplot.hist((img_stds - img_stds.mean()) * 2 / img_stds.max())"
   ]
  },
  {
   "cell_type": "code",
   "execution_count": null,
   "id": "0fcbf6df-eb6b-4b02-82a6-156784dff854",
   "metadata": {},
   "outputs": [],
   "source": [
    "print(img_stds.mean(), 2 / img_stds.max())"
   ]
  },
  {
   "cell_type": "code",
   "execution_count": null,
   "id": "1fee5d74-7c14-463e-a435-444b2ed970e0",
   "metadata": {},
   "outputs": [],
   "source": []
  }
 ],
 "metadata": {
  "kernelspec": {
   "display_name": "Python (myenv)",
   "language": "python",
   "name": "venv"
  },
  "language_info": {
   "codemirror_mode": {
    "name": "ipython",
    "version": 3
   },
   "file_extension": ".py",
   "mimetype": "text/x-python",
   "name": "python",
   "nbconvert_exporter": "python",
   "pygments_lexer": "ipython3",
   "version": "3.13.1"
  }
 },
 "nbformat": 4,
 "nbformat_minor": 5
}
