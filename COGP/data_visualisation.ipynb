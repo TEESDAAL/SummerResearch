{
 "cells": [
  {
   "cell_type": "code",
   "execution_count": 1,
   "id": "9a003af68d394aee",
   "metadata": {
    "ExecuteTime": {
     "end_time": "2024-12-13T03:23:06.592927Z",
     "start_time": "2024-12-13T03:23:06.588879Z"
    }
   },
   "outputs": [
    {
     "ename": "ModuleNotFoundError",
     "evalue": "No module named 'deap'",
     "output_type": "error",
     "traceback": [
      "\u001b[0;31m---------------------------------------------------------------------------\u001b[0m",
      "\u001b[0;31mModuleNotFoundError\u001b[0m                       Traceback (most recent call last)",
      "Cell \u001b[0;32mIn[1], line 3\u001b[0m\n\u001b[1;32m      1\u001b[0m \u001b[38;5;28;01mimport\u001b[39;00m\u001b[38;5;250m \u001b[39m\u001b[38;5;21;01msys\u001b[39;00m\u001b[38;5;241m,\u001b[39m\u001b[38;5;250m \u001b[39m\u001b[38;5;21;01mmatplotlib\u001b[39;00m\u001b[38;5;241m,\u001b[39m\u001b[38;5;250m \u001b[39m\u001b[38;5;21;01mmatplotlib\u001b[39;00m\u001b[38;5;21;01m.\u001b[39;00m\u001b[38;5;21;01mpyplot\u001b[39;00m\u001b[38;5;250m \u001b[39m\u001b[38;5;28;01mas\u001b[39;00m\u001b[38;5;250m \u001b[39m\u001b[38;5;21;01mplt\u001b[39;00m\u001b[38;5;241m,\u001b[39m\u001b[38;5;250m \u001b[39m\u001b[38;5;21;01mpickle\u001b[39;00m\u001b[38;5;241m,\u001b[39m\u001b[38;5;250m \u001b[39m\u001b[38;5;21;01mos\u001b[39;00m\u001b[38;5;241m,\u001b[39m\u001b[38;5;250m \u001b[39m\u001b[38;5;21;01mnumpy\u001b[39;00m\u001b[38;5;250m \u001b[39m\u001b[38;5;28;01mas\u001b[39;00m\u001b[38;5;250m \u001b[39m\u001b[38;5;21;01mnp\u001b[39;00m\n\u001b[1;32m      2\u001b[0m sys\u001b[38;5;241m.\u001b[39mpath\u001b[38;5;241m.\u001b[39mappend(\u001b[38;5;124m\"\u001b[39m\u001b[38;5;124m../\u001b[39m\u001b[38;5;124m\"\u001b[39m)\n\u001b[0;32m----> 3\u001b[0m \u001b[38;5;28;01mfrom\u001b[39;00m\u001b[38;5;250m \u001b[39m\u001b[38;5;21;01mdeap\u001b[39;00m\u001b[38;5;250m \u001b[39m\u001b[38;5;28;01mimport\u001b[39;00m gp\n\u001b[1;32m      4\u001b[0m \u001b[38;5;28;01mfrom\u001b[39;00m\u001b[38;5;250m \u001b[39m\u001b[38;5;21;01mdeap\u001b[39;00m\u001b[38;5;21;01m.\u001b[39;00m\u001b[38;5;21;01mtools\u001b[39;00m\u001b[38;5;250m \u001b[39m\u001b[38;5;28;01mimport\u001b[39;00m Logbook\n\u001b[1;32m      5\u001b[0m \u001b[38;5;28;01mfrom\u001b[39;00m\u001b[38;5;250m \u001b[39m\u001b[38;5;21;01mtyping\u001b[39;00m\u001b[38;5;250m \u001b[39m\u001b[38;5;28;01mimport\u001b[39;00m Callable, TypeVar, Iterable\n",
      "\u001b[0;31mModuleNotFoundError\u001b[0m: No module named 'deap'"
     ]
    }
   ],
   "source": [
    "import sys, matplotlib, matplotlib.pyplot as plt, pickle, os, numpy as np\n",
    "sys.path.append(\"../\")\n",
    "from deap import gp\n",
    "from deap.tools import Logbook\n",
    "from typing import Callable, TypeVar, Iterable\n",
    "from run_gp import RunInfo\n",
    "from shared_tools.make_datasets import x_train, y_train, x_validation, y_validation, x_test, y_test\n",
    "from simple_pred.make_pset import pset\n",
    "from shared_tools.toolbox import create_toolbox\n",
    "from functools import partial\n",
    "from dataclasses import dataclass\n",
    "from main import parser\n",
    "from deap_tree import Tree, TreeDrawer\n",
    "from IPython.display import Image"
   ]
  },
  {
   "cell_type": "code",
   "execution_count": null,
   "id": "89ca7a98-8125-4ce9-b819-4010cf71d6a5",
   "metadata": {},
   "outputs": [],
   "source": [
    "parameters = parser.parse_args([])\n",
    "\n",
    "datasets = {\n",
    "    \"train\": (x_train, y_train),\n",
    "    \"validation\": (x_validation, y_validation),\n",
    "    \"test\": (x_test, y_test)\n",
    "}\n",
    "\n",
    "pset = pset()\n",
    "\n",
    "toolbox = create_toolbox(datasets, pset, parameters)"
   ]
  },
  {
   "cell_type": "code",
   "execution_count": null,
   "id": "initial_id",
   "metadata": {
    "ExecuteTime": {
     "end_time": "2024-12-13T03:23:07.026623Z",
     "start_time": "2024-12-13T03:23:07.019247Z"
    }
   },
   "outputs": [],
   "source": [
    "def plot(logbook: Logbook) -> None:\n",
    "    gen = logbook.select(\"gen\")\n",
    "\n",
    "    size_avgs = logbook.chapters[\"size\"].select(\"avg\")\n",
    "\n",
    "    fig, axs = plt.subplots(2, 2)\n",
    "    combinations = zip([\"min\", \"max\", \"avg\"], [\"red\", \"green\", \"blue\"])\n",
    "\n",
    "    for ax, (setting, color) in zip(axs.flat, combinations):\n",
    "        ax.plot(gen, logbook.chapters[\"fitness\"].select(setting),\n",
    "                color=color, label=f\"fitness_{setting}\")\n",
    "        ax.set_title(f\"Fitness {setting}\")\n",
    "        ax.set(xlabel='x-label', ylabel='y-label')\n",
    "    axs[1,1].plot(gen, size_avgs, color=\"orange\")\n",
    "    axs[1,1].set_title(\"Average Size\")\n",
    "    # Hide x labels and tick labels for top plots and y ticks for right plots.\n",
    "    for ax in axs.flat:\n",
    "        ax.set(xlabel=\"generations\", ylabel=\"fitness\")\n",
    "        # ax.label_outer()\n",
    "    axs[1,1].set(ylabel=\"size\")\n",
    "    plt.show()\n"
   ]
  },
  {
   "cell_type": "code",
   "execution_count": null,
   "id": "7f9461e6681fddd5",
   "metadata": {
    "ExecuteTime": {
     "end_time": "2024-12-13T03:23:07.665944Z",
     "start_time": "2024-12-13T03:23:07.653713Z"
    }
   },
   "outputs": [],
   "source": [
    "T = TypeVar('T')\n",
    "def retrieve_from_files(extractor: Callable[[RunInfo], T], files: Iterable[str],  exclude_zero: bool=True) -> list[T]:\n",
    "    result = []\n",
    "    for file_path in files:\n",
    "        with open(file_path, 'rb') as file:\n",
    "            try:\n",
    "                run_info = pickle.load(file)\n",
    "                if exclude_zero and run_info.parameters.seed == 0:\n",
    "                    continue\n",
    "                result.append(extractor(run_info))\n",
    "            except:\n",
    "                pass\n",
    "    return result\n",
    "\n",
    "def get_files(model: str) -> list[str]:\n",
    "    return [f\"{model}/data/{name}\" for name in os.listdir(f\"{model}/data\")]\n",
    "    \n",
    "def plot_across_all_models(\n",
    "        model: str,\n",
    "        *extractors: tuple[Callable[[RunInfo], T], str],\n",
    "        title: str,\n",
    "        x_axis: str=\"\",\n",
    "        y_axis: str=\"\",\n",
    "        exclude_zero: bool=True\n",
    "    ) -> None:\n",
    "    for extractor, name in extractors:\n",
    "        results = np.array(retrieve_from_files(\n",
    "            extractor,\n",
    "            (f\"{model}/data/{name}\" for name in os.listdir(f\"{model}/data\")),\n",
    "            exclude_zero=exclude_zero\n",
    "        ))\n",
    "        for result in results:\n",
    "            plt.plot(result, alpha=0.3, label='_nolegend_')\n",
    "        plt.plot(results.mean(axis=0), linewidth=3,  label=f\"{name} average\")\n",
    "    plt.title(title)\n",
    "    plt.xlabel(x_axis)\n",
    "    plt.ylabel(y_axis)\n",
    "    plt.legend()\n",
    "    plt.show()\n",
    "\n",
    "def box_plot(\n",
    "        model: str,\n",
    "        *extractors: tuple[Callable[[RunInfo], T], str],\n",
    "        title: str,\n",
    "        x_axis: str=\"\",\n",
    "        y_axis: str=\"\",\n",
    "        exclude_zero: bool=True\n",
    "    ) -> None:\n",
    "    for extractor, name in extractors:\n",
    "        results = np.array(retrieve_from_files(\n",
    "            extractor,\n",
    "            (f\"{model}/data/{name}\" for name in os.listdir(f\"{model}/data\")),\n",
    "            exclude_zero=exclude_zero\n",
    "        ))\n",
    "        plt.boxplot(results)\n",
    "    plt.title(title)\n",
    "    plt.xlabel(x_axis)\n",
    "    plt.ylabel(y_axis)\n",
    "    plt.legend()\n",
    "    plt.show()"
   ]
  },
  {
   "cell_type": "code",
   "execution_count": null,
   "id": "14db15a0-0102-4b24-ac54-1835ba1387d7",
   "metadata": {},
   "outputs": [],
   "source": [
    "best_run = min(retrieve_from_files(lambda r: r, get_files('simple_pred')), key=lambda r: r.test_error)\n",
    "best_individual, wrapper_model = best_run.best_individual, best_run.wrapper_model\n",
    "print(best_individual)"
   ]
  },
  {
   "cell_type": "code",
   "execution_count": null,
   "id": "915ff722a6dcfb62",
   "metadata": {
    "ExecuteTime": {
     "end_time": "2024-12-13T03:23:09.071066Z",
     "start_time": "2024-12-13T03:23:08.438988Z"
    },
    "scrolled": true
   },
   "outputs": [],
   "source": [
    "plot_across_all_models(\n",
    "    'simple_pred',\n",
    "    (lambda i: i.log.select(\"fit_min\"), \"fitness\"), (lambda i: i.log.select(\"val_min\"), \"validation\"),\n",
    "    title=f\"Minimum Test and Validation error over every {best_run.model} run\",\n",
    "    x_axis=\"generations\",\n",
    "    y_axis=\"OOB error\"\n",
    ")\n",
    "#plot_across_all_models('simple_pred', lambda i: i.log.select(\"val_min\"), title=\"minimum validation error simple pred\")\n",
    "box_plot('simple_pred', (lambda i: i.test_error, \"test error\"), title=f\"Test error for all the {best_run.model} models\", y_axis=\"test error\")\n",
    "\n",
    "results = np.array(retrieve_from_files(lambda i: i.test_error, get_files(\"simple_pred\")))\n",
    "print(\"Avg test error:\", f\"{results.mean()} +- {results.std()}\")\n",
    "print(\"Min test error:\", results.min())"
   ]
  },
  {
   "cell_type": "code",
   "execution_count": null,
   "id": "1e59c4883f0a2fa6",
   "metadata": {
    "ExecuteTime": {
     "end_time": "2024-12-13T02:27:39.294298Z",
     "start_time": "2024-12-13T02:27:39.285300Z"
    }
   },
   "outputs": [],
   "source": [
    "def show(a_v_pairs: list[tuple[float, float]], title: str) -> None:\n",
    "    aro, val = sum(a for a, _ in a_v_pairs) / len(a_v_pairs), sum(v for _, v in a_v_pairs) / len(a_v_pairs)\n",
    "    plt.scatter([a for a, _ in a_v_pairs], [v for _, v in a_v_pairs],  s=20, color=(0.1, 0.1, 1, 0.7))\n",
    "    plt.scatter([aro], [val], s=100, color=(1, 0, 0, 0.7))\n",
    "    plt.xlabel(\"arousal\")\n",
    "    plt.ylabel(\"valence\")\n",
    "    plt.title(title)\n",
    "    plt.xlim((-1, 1))\n",
    "    plt.ylim((-1, 1))\n",
    "    plt.show()\n"
   ]
  },
  {
   "cell_type": "code",
   "execution_count": null,
   "id": "9e28d84e4b03267",
   "metadata": {},
   "outputs": [],
   "source": [
    "show(y_validation, title=\"True distribution of the validation set\")\n",
    "show(y_train, title=\"True distribution of the train set\")\n",
    "show(y_test, title=\"True distribution of the test set\")"
   ]
  },
  {
   "cell_type": "code",
   "execution_count": null,
   "id": "0752bf8b-9cb4-4b54-922e-337187fabe10",
   "metadata": {},
   "outputs": [],
   "source": [
    "feature_extractor = toolbox.compile(best_individual)\n",
    "val_features = np.array([feature_extractor(img) for img in x_validation])\n",
    "train_features = np.array([feature_extractor(img) for img in x_train])\n",
    "wrapper_model.fit(train_features, y_train)\n",
    "val_predictions, train_predictions = wrapper_model.predict(val_features), wrapper_model.predict(train_features)\n",
    "show(val_predictions, title=f\"best {best_run.model} validation predictions\")\n",
    "show(train_predictions, title=f\"best {best_run.model} training predictions\")"
   ]
  },
  {
   "cell_type": "code",
   "execution_count": null,
   "id": "b3c5ae59-da4c-4c50-8d8b-6f0dc48605e0",
   "metadata": {},
   "outputs": [],
   "source": [
    "f = Tree.of(best_individual, pset)\n",
    "for i, img in enumerate(x_train[:5]):\n",
    "    TreeDrawer().register_draw_function(lambda t: len(t.value) > 5,  lambda g, t: g.add_node(f\"{t.id()}result\", label=f\"Array with {len(t.value)} elements\", shape=\"plaintext\")).save_graph(f\"models/best_model{i}.png\", f, img)\n",
    "    display(Image(f\"models/best_model{i}.png\"))"
   ]
  },
  {
   "cell_type": "code",
   "execution_count": null,
   "id": "d07e3f1f-4734-417c-800a-f43fa79d1110",
   "metadata": {},
   "outputs": [],
   "source": []
  },
  {
   "cell_type": "code",
   "execution_count": null,
   "id": "76783993-be61-40b3-9056-c0b86fe71838",
   "metadata": {},
   "outputs": [],
   "source": []
  },
  {
   "cell_type": "code",
   "execution_count": null,
   "id": "0fcbf6df-eb6b-4b02-82a6-156784dff854",
   "metadata": {},
   "outputs": [],
   "source": []
  },
  {
   "cell_type": "code",
   "execution_count": null,
   "id": "1fee5d74-7c14-463e-a435-444b2ed970e0",
   "metadata": {},
   "outputs": [],
   "source": []
  }
 ],
 "metadata": {
  "kernelspec": {
   "display_name": "Python 3 (ipykernel)",
   "language": "python",
   "name": "python3"
  },
  "language_info": {
   "codemirror_mode": {
    "name": "ipython",
    "version": 3
   },
   "file_extension": ".py",
   "mimetype": "text/x-python",
   "name": "python",
   "nbconvert_exporter": "python",
   "pygments_lexer": "ipython3",
   "version": "3.13.1"
  }
 },
 "nbformat": 4,
 "nbformat_minor": 5
}
